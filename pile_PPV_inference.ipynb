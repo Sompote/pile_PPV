{
  "nbformat": 4,
  "nbformat_minor": 0,
  "metadata": {
    "colab": {
      "provenance": []
    },
    "kernelspec": {
      "name": "python3",
      "display_name": "Python 3"
    },
    "language_info": {
      "name": "python"
    }
  },
  "cells": [
    {
      "cell_type": "code",
      "execution_count": 28,
      "metadata": {
        "colab": {
          "base_uri": "https://localhost:8080/"
        },
        "id": "G6QTAoJnvRnJ",
        "outputId": "1c6fb520-ae16-4b3d-a14a-edaedaf1daed"
      },
      "outputs": [
        {
          "output_type": "stream",
          "name": "stdout",
          "text": [
            "particla velocity= 1.097109544388086 mm/s\n"
          ]
        }
      ],
      "source": [
        "#code for estimate thepeak particel velocity in Bangkok Sub soil\n",
        "\n",
        "import numpy as np\n",
        "import pandas as pd\n",
        "from sklearn.model_selection import train_test_split\n",
        "import torch\n",
        "import torch.nn as nn\n",
        "import torch.nn.functional as F\n",
        "from joblib import load\n",
        "\n",
        "# Load the StandardScaler from the file\n",
        "scaler = load('standard_scaler1.joblib')\n",
        "scaler2= load('standard_scale2.joblib')\n",
        "\n",
        "\n",
        "# Load a TorchScript model (no need for the original class definition)\n",
        "model = torch.jit.load('model_scripted.pt')\n",
        "model.eval()\n",
        "\n",
        "# input [pile length(m), weight (ton), drop height (m), distance (m), Location, trigger]\n",
        "#location 1:on ground 2:on foundation 3: on bulding\n",
        "#trigger 1: longitudinal 2:transverse 3:vertical)\n",
        "\n",
        "X_t=np.array([300,18,4.2,0.5,30,1,1])\n",
        "X_t=np.reshape(X_t,(1,-1))\n",
        "\n",
        "X_t=scaler.transform(X_t)\n",
        "X_t = torch.tensor(X_t, dtype=torch.float32)\n",
        "\n",
        "\n",
        "with torch.no_grad():\n",
        "    test_outputs = model(X_t)\n",
        "    # Inverse transform using the scaler\n",
        "    test_outputs2 = scaler2.inverse_transform(test_outputs)\n",
        "\n",
        "print('particla velocity=',test_outputs2[0,0],'mm/s')"
      ]
    },
    {
      "cell_type": "code",
      "source": [],
      "metadata": {
        "id": "GAmukbPKvqtZ"
      },
      "execution_count": null,
      "outputs": []
    }
  ]
}